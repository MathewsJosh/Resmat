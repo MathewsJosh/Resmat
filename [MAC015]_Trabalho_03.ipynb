{
  "nbformat": 4,
  "nbformat_minor": 0,
  "metadata": {
    "colab": {
      "name": "[MAC015]_Trabalho_03",
      "provenance": [],
      "collapsed_sections": [],
      "include_colab_link": true
    },
    "kernelspec": {
      "name": "python3",
      "display_name": "Python 3"
    },
    "language_info": {
      "name": "python"
    }
  },
  "cells": [
    {
      "cell_type": "markdown",
      "metadata": {
        "id": "view-in-github",
        "colab_type": "text"
      },
      "source": [
        "<a href=\"https://colab.research.google.com/github/MathewsJosh/Resmat/blob/main/%5BMAC015%5D_Trabalho_03.ipynb\" target=\"_parent\"><img src=\"https://colab.research.google.com/assets/colab-badge.svg\" alt=\"Open In Colab\"/></a>"
      ]
    },
    {
      "cell_type": "markdown",
      "metadata": {
        "id": "dSlHOTS04M1D"
      },
      "source": [
        "Elaborar um programa que dimensione para o usuário, em termos de seu diâmetro (em mm), um eixo circular que funcione acoplado a um motor que gira a uma frequência de 120 rpm e dissipa 150 cv de potência (1 cv = 736 W), considerando a solicitação à torção.\n",
        "\n",
        "Para tal, considerar eixo maciço para os seguintes materiais:\n",
        "\n",
        "Aço: G = 75 GPa, Tensão admissível ao cisalhamento = 50 MPa\n",
        "\n",
        "Latão: G = 40 GPa, Tensão admissível ao cisalhamento = 48 MPa\n",
        "\n",
        "Alumínio: G = 25 GPa, Tensão admissível ao cisalhamento = 25 MPa\n",
        "\n",
        "Para o dimensionamento, o programa deverá levar em conta não só as tensões admissíveis de cada material, mas também uma limitação para o ângulo de torção, que não deve exceder 1º. Considerar o comprimento L do eixo como 20 vezes o diâmetro (no caso dos perfis tubulares, 20 vezes o diâmetro externo).\n",
        "\n",
        "Fazer também o dimensionamento para perfis tubulares de aço (considerar as mesmas propriedades já citadas para o material). Deve-se ler a tabela de perfis disponíveis (para este exercício, foram escolhidos perfis Vallourec 141,3 mm), cujos dados geométricos pertinentes ao exercício foram planilhados em Excel, e verificar os tubos disponíveis em relação à tensão e ao ângulo de torção. Escolher o perfil mais econômico (de menor massa linear).\n",
        "\n",
        "Considerar como dados de entrada a potência dissipada pelo motor e sua frequência de giro.\n",
        "\n",
        "Fornecer como saída uma tabela indicando para o usuário:\n",
        "\n",
        "Material\n",
        "\n",
        "Seção escolhida (em mm)\n",
        "\n",
        "Apresentar análise crítica sobre o \"peso\" da limitação da tensão x limitação do ângulo de torção no dimensionamento dos eixos.\n",
        "\n",
        "Analisar o que acontece com o dimensionamento se:\n",
        "\n",
        "a) A potência do motor varia\n",
        "\n",
        "b) A frequência de giro do motor varia"
      ]
    },
    {
      "cell_type": "code",
      "metadata": {
        "id": "6lfZ5Ng2_qWb"
      },
      "source": [
        "# Importando as bibliotecas necessárias\n",
        "import pandas as pd\n",
        "import numpy as np"
      ],
      "execution_count": 1,
      "outputs": []
    },
    {
      "cell_type": "code",
      "metadata": {
        "colab": {
          "base_uri": "https://localhost:8080/",
          "height": 141
        },
        "id": "aAc1RVRXMHu3",
        "outputId": "4b39558c-64c8-41cb-8a9a-0c61acae4376"
      },
      "source": [
        "# Cálculo do momento torsor (N.mm)\n",
        "\n",
        "# Função que retorna diâmetro e ângulo\n",
        "def retorna_dados(modulo_el, tensao_ad, limita_angulo):\n",
        "  frequencia = 1 # Frequência em hertz (120 rpm)\n",
        "  potencia = 150*736 # Potência convertida para W\n",
        "\n",
        "  T = (potencia)/(frequencia*np.pi) # Torque (N.m)\n",
        "  T = T*10**3 # Torque (N.mm)\n",
        "\n",
        "  # Cálculo das propriedades geométricas. Como não sabemos o raio do eixo, vamos usar as equações deduzidas nas aulas\n",
        "  raio = np.cbrt((2*T)/(np.pi*tensao_ad)) # Raio em mm\n",
        "  diametro = 2*raio # Diâmetro em mm\n",
        "  diametro = round(diametro) # Arredonda o valor do diâmetro para o inteiro mais superior mais próximo\n",
        "    \n",
        "  if limita_angulo:\n",
        "    angulo = 1\n",
        "    comprimento = (diametro/1000)*20 # Passa o diâmetro para metro e multiplica por 20, de acordo com o enunciado\n",
        "    c = (T*comprimento)/((modulo_el*10**9)*((np.pi/2)*angulo))\n",
        "    diametro = (c**0.25)*2 # Sabendo que J = (pi/2)*c^4\n",
        "  else:\n",
        "    momento_in = (np.pi/2)*((raio/1000)) # Passa o raio para metro e encontra o momento de inércia polar\n",
        "    comprimento = (diametro*20)/1000 # Passa o diâmetro para metro e multiplica por 20, de acordo com o enunciado\n",
        "    angulo = (T*comprimento)/((modulo_el*10**9)*momento_in) # Define ângulo em graus\n",
        "  return diametro, np.degrees(angulo) # Retorna diâmetro em mm e ângulo em graus\n",
        "\n",
        "# Dados dos materiais (Aço, latão e alumínio)\n",
        "modulos_el = [75,40,25] # Módulos de elasticidade\n",
        "tensoes_ad = [50,48,25] # Tensões admissível ao cisalhamento\n",
        "lista_diametros = [] # Varíavel que será usada para armazenar os diâmetros\n",
        "lista_angulos = [] # Varíavel que será usada para armazenar os ângulos\n",
        "\n",
        "for i in range(3):\n",
        "  diametro, angulo = retorna_dados(modulos_el[i], tensoes_ad[i], False)\n",
        "  lista_diametros.append(diametro)\n",
        "  lista_angulos.append(angulo)\n",
        "\n",
        "# Mostra os resultados\n",
        "outputDf = pd.DataFrame(\n",
        "    {\n",
        "        \"Material\":[\"Aço\",\"Latão\",\"Alumínio\"], \n",
        "        \"Diâmetro (mm)\":lista_diametros,\n",
        "        \"Ângulo (graus)\":lista_angulos   \n",
        "    }\n",
        ")\n",
        "outputDf"
      ],
      "execution_count": 2,
      "outputs": [
        {
          "output_type": "execute_result",
          "data": {
            "text/html": [
              "<div>\n",
              "<style scoped>\n",
              "    .dataframe tbody tr th:only-of-type {\n",
              "        vertical-align: middle;\n",
              "    }\n",
              "\n",
              "    .dataframe tbody tr th {\n",
              "        vertical-align: top;\n",
              "    }\n",
              "\n",
              "    .dataframe thead th {\n",
              "        text-align: right;\n",
              "    }\n",
              "</style>\n",
              "<table border=\"1\" class=\"dataframe\">\n",
              "  <thead>\n",
              "    <tr style=\"text-align: right;\">\n",
              "      <th></th>\n",
              "      <th>Material</th>\n",
              "      <th>Diâmetro (mm)</th>\n",
              "      <th>Ângulo (graus)</th>\n",
              "    </tr>\n",
              "  </thead>\n",
              "  <tbody>\n",
              "    <tr>\n",
              "      <th>0</th>\n",
              "      <td>Aço</td>\n",
              "      <td>153</td>\n",
              "      <td>0.683763</td>\n",
              "    </tr>\n",
              "    <tr>\n",
              "      <th>1</th>\n",
              "      <td>Latão</td>\n",
              "      <td>155</td>\n",
              "      <td>1.281261</td>\n",
              "    </tr>\n",
              "    <tr>\n",
              "      <th>2</th>\n",
              "      <td>Alumínio</td>\n",
              "      <td>193</td>\n",
              "      <td>2.053759</td>\n",
              "    </tr>\n",
              "  </tbody>\n",
              "</table>\n",
              "</div>"
            ],
            "text/plain": [
              "   Material  Diâmetro (mm)  Ângulo (graus)\n",
              "0       Aço            153        0.683763\n",
              "1     Latão            155        1.281261\n",
              "2  Alumínio            193        2.053759"
            ]
          },
          "metadata": {},
          "execution_count": 2
        }
      ]
    },
    {
      "cell_type": "code",
      "metadata": {
        "id": "vbEeAU1wgsyH"
      },
      "source": [
        "# O próximo passo seria trabalhar com uma limitação para o ângulo de torção\n",
        "for i in range(3):\n",
        "  if lista_angulos[i] > 1:\n",
        "    diametro, angulo = retorna_dados(modulos_el[i], tensoes_ad[i], True)\n",
        "  else:\n",
        "    diametro, angulo = retorna_dados(modulos_el[i], tensoes_ad[i], False)"
      ],
      "execution_count": 3,
      "outputs": []
    }
  ]
}